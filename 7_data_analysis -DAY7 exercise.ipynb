{
 "cells": [
  {
   "cell_type": "markdown",
   "metadata": {},
   "source": [
    "<div style=\"display: flex; align-items: center;\">\n",
    "    <img src=\"../img/es_logo.png\" alt=\"title\" style=\"margin-right: 20px;\">\n",
    "    <h1>Data Analysis Using Python</h1>\n",
    "</div>"
   ]
  },
  {
   "cell_type": "markdown",
   "metadata": {},
   "source": [
    "### Submission Instructions\n",
    "\n",
    "- Complete the excercises in the notebook below.\n",
    "- Once you have completed the notebook, you should submit the completed notebook and any additional files you created for the assignment by uploading them to your github profile and sharing the github link as the submission.\n",
    "- your github repostory should contain the required files as well as a README.md file that summarizes what you have learned in this module."
   ]
  },
  {
   "cell_type": "markdown",
   "metadata": {},
   "source": [
    "### Recommended Readings:\n",
    "- Pandas : [User Guide](https://pandas.pydata.org/docs/user_guide/index.html#user-guide)\n",
    "- Concat, Merge and Join: [Documentation](https://pandas.pydata.org/docs/user_guide/merging.html)"
   ]
  },
  {
   "cell_type": "markdown",
   "metadata": {},
   "source": [
    "Download the following dataset from kaggel: [Employee Salaries Analysis](https://www.kaggle.com/datasets/sahirmaharajj/employee-salaries-analysis)\n",
    "\n",
    "Using pandas find the following:\n",
    "1. The average salary of all employees\n",
    "2. The Department with the highest average salary\n",
    "3. The average salary of employees based on gender"
   ]
  },
  {
   "cell_type": "code",
   "execution_count": 9,
   "metadata": {},
   "outputs": [
    {
     "name": "stdout",
     "output_type": "stream",
     "text": [
      "1. Average Salary of All Employees: $90312.17\n",
      "2. Department with the Highest Average Salary: Office of Intergovernmental Relations Department with an average salary of $165196.75\n",
      "3. Average Salary of Employees Based on Gender:\n",
      "   F: $87497.50\n",
      "   M: $92382.93\n"
     ]
    }
   ],
   "source": [
    "import pandas as pd\n",
    "\n",
    "file_path = 'Employee_Salaries.csv'\n",
    "df = pd.read_csv(file_path)\n",
    "\n",
    "average_salary_all = df['Base_Salary'].mean()\n",
    "\n",
    "department_avg_salary = df.groupby('Department_Name')['Base_Salary'].mean()\n",
    "department_highest_avg_salary = department_avg_salary.idxmax()\n",
    "highest_avg_salary = department_avg_salary.max()\n",
    "\n",
    "gender_avg_salary = df.groupby('Gender')['Base_Salary'].mean()\n",
    "\n",
    "print(f\"1. Average Salary of All Employees: ${average_salary_all:.2f}\")\n",
    "print(f\"2. Department with the Highest Average Salary: {department_highest_avg_salary} with an average salary of ${highest_avg_salary:.2f}\")\n",
    "print(\"3. Average Salary of Employees Based on Gender:\")\n",
    "for gender, salary in gender_avg_salary.items():\n",
    "    print(f\"   {gender}: ${salary:.2f}\")\n"
   ]
  }
 ],
 "metadata": {
  "kernelspec": {
   "display_name": "Python 3",
   "language": "python",
   "name": "python3"
  },
  "language_info": {
   "codemirror_mode": {
    "name": "ipython",
    "version": 3
   },
   "file_extension": ".py",
   "mimetype": "text/x-python",
   "name": "python",
   "nbconvert_exporter": "python",
   "pygments_lexer": "ipython3",
   "version": "3.12.3"
  }
 },
 "nbformat": 4,
 "nbformat_minor": 2
}
